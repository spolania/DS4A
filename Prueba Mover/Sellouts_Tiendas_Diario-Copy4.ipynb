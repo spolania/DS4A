{
 "cells": [
  {
   "cell_type": "code",
   "execution_count": 1,
   "metadata": {},
   "outputs": [],
   "source": [
    "from google.cloud import bigquery\n",
    "from google.oauth2 import service_account\n",
    "credentials = service_account.Credentials.from_service_account_file('C:/Users/usuario/credential_sellout.json')\n",
    "project_id = 'rappi-202719'\n",
    "client = bigquery.Client(credentials= credentials,project=project_id)"
   ]
  },
  {
   "cell_type": "code",
   "execution_count": 2,
   "metadata": {},
   "outputs": [],
   "source": [
    "import pandas as pd"
   ]
  },
  {
   "cell_type": "code",
   "execution_count": 3,
   "metadata": {},
   "outputs": [],
   "source": [
    "Pais = 'CL'\n",
    "Inicio = '2020-01-01'\n",
    "Inicio2 = '2021-01-01'\n",
    "Final = '2021-01-31'\n",
    "Fabricante = 'vspt'"
   ]
  },
  {
   "cell_type": "code",
   "execution_count": 4,
   "metadata": {},
   "outputs": [],
   "source": [
    "maker = \"\"\"\n",
    "SELECT \n",
    "Date,Sales,Units,Orders,Users,AverageTicket,Frequency\n",
    "From `rappi-202719.SELLOUT_DEV_SP.VIEW_MAKER`\n",
    "where Country = '{}'\n",
    "and lower(maker) = '{}'\n",
    "\"\"\".format(Pais, Fabricante)\n",
    "Maker = client.query(maker).to_dataframe()"
   ]
  },
  {
   "cell_type": "code",
   "execution_count": 5,
   "metadata": {},
   "outputs": [],
   "source": [
    "brand = \"\"\"\n",
    "SELECT \n",
    "Date,Brand,Category,Sales,Units,Orders,Users,AverageTicket,Frequency\n",
    "From `rappi-202719.SELLOUT_DEV_SP.VIEW_BRAND`\n",
    "where Country = '{}'\n",
    "and lower(maker) = '{}'\n",
    "\"\"\".format(Pais, Fabricante)\n",
    "Brand = client.query(brand).to_dataframe()"
   ]
  },
  {
   "cell_type": "code",
   "execution_count": 6,
   "metadata": {},
   "outputs": [],
   "source": [
    "product = \"\"\"\n",
    "SELECT \n",
    "Date,Brand,Category,EanProductID,Name,Sales,Units,Orders,Users,AverageTicket,Frequency\n",
    "From `rappi-202719.SELLOUT_DEV_SP.VIEW_PRODUCT`\n",
    "where Country = '{}'\n",
    "and lower(maker) = '{}'\n",
    "\"\"\".format(Pais, Fabricante)\n",
    "Product = client.query(product).to_dataframe()"
   ]
  },
  {
   "cell_type": "code",
   "execution_count": 7,
   "metadata": {},
   "outputs": [],
   "source": [
    "makerdaily = \"\"\"\n",
    "SELECT \n",
    "Date,Sales,Units,Orders,Users,AverageTicket,Frequency\n",
    "From `rappi-202719.SELLOUT_DEV_SP.VIEW_MAKER_DAILY`\n",
    "where Country = '{}'\n",
    "and lower(maker) = '{}'\n",
    "\"\"\".format(Pais, Fabricante)\n",
    "MakerDaily = client.query(makerdaily).to_dataframe()"
   ]
  },
  {
   "cell_type": "code",
   "execution_count": 8,
   "metadata": {},
   "outputs": [],
   "source": [
    "branddaily = \"\"\"\n",
    "SELECT \n",
    "Date,Brand,Category,Sales,Units,Orders,Users,AverageTicket,Frequency\n",
    "From `rappi-202719.SELLOUT_DEV_SP.VIEW_BRAND_DAILY`\n",
    "where Country = '{}'\n",
    "and lower(maker) = '{}'\n",
    "\"\"\".format(Pais, Fabricante)\n",
    "BrandDaily = client.query(branddaily).to_dataframe()"
   ]
  },
  {
   "cell_type": "code",
   "execution_count": 9,
   "metadata": {},
   "outputs": [],
   "source": [
    "productdaily = \"\"\"\n",
    "SELECT \n",
    "Date,Brand,Category,EanProductID,Name,Sales,Units,Orders,Users,AverageTicket,Frequency\n",
    "From `rappi-202719.SELLOUT_DEV_SP.VIEW_PRODUCT_DAILY`\n",
    "where Country = '{}'\n",
    "and lower(maker) = '{}'\n",
    "\"\"\".format(Pais, Fabricante)\n",
    "ProductDaily = client.query(productdaily).to_dataframe()"
   ]
  },
  {
   "cell_type": "code",
   "execution_count": 10,
   "metadata": {},
   "outputs": [],
   "source": [
    "makerstore = \"\"\"\n",
    "SELECT \n",
    "Date,Retailer,City,Store,Address,Sales,Units,Orders,Users,AverageTicket,Frequency\n",
    "From `rappi-202719.SELLOUT_DEV_SP.VIEW_MAKER_STORE`\n",
    "where Country = '{}'\n",
    "and lower(maker) = '{}'\n",
    "\"\"\".format(Pais, Fabricante)\n",
    "MakerStore = client.query(makerstore).to_dataframe()"
   ]
  },
  {
   "cell_type": "code",
   "execution_count": 11,
   "metadata": {},
   "outputs": [],
   "source": [
    "brandstore = \"\"\"\n",
    "SELECT \n",
    "Date,Brand,Category,Retailer,City,Store,Address,Sales,Units,Orders,Users,AverageTicket,Frequency\n",
    "From `rappi-202719.SELLOUT_DEV_SP.VIEW_BRAND_STORE`\n",
    "where Country = '{}'\n",
    "and lower(maker) = '{}'\n",
    "\"\"\".format(Pais, Fabricante)\n",
    "BrandStore = client.query(brandstore).to_dataframe()"
   ]
  },
  {
   "cell_type": "code",
   "execution_count": 12,
   "metadata": {},
   "outputs": [],
   "source": [
    "productstore = \"\"\"\n",
    "SELECT \n",
    "Date,Brand,Category,EanProductID,Name,Retailer,City,Store,Address,Sales,Units,Orders,Users,AverageTicket,Frequency\n",
    "From `rappi-202719.SELLOUT_DEV_SP.VIEW_PRODUCT_STORE`\n",
    "where Country = '{}'\n",
    "and lower(maker) = '{}'\n",
    "\"\"\".format(Pais, Fabricante)\n",
    "ProductStore = client.query(productstore).to_dataframe()"
   ]
  },
  {
   "cell_type": "code",
   "execution_count": 13,
   "metadata": {},
   "outputs": [],
   "source": [
    "makerstoredaily = \"\"\"\n",
    "SELECT \n",
    "Date,Retailer,City,Store,Address,Sales,Units,Orders,Users,AverageTicket,Frequency\n",
    "From `rappi-202719.SELLOUT_DEV_SP.VIEW_MAKER_STORE_DAILY`\n",
    "where Country = '{}'\n",
    "and lower(maker) = '{}'\n",
    "\"\"\".format(Pais, Fabricante)\n",
    "MakerStoreDaily = client.query(makerstoredaily).to_dataframe()"
   ]
  },
  {
   "cell_type": "code",
   "execution_count": 14,
   "metadata": {},
   "outputs": [],
   "source": [
    "brandstoredaily = \"\"\"\n",
    "SELECT \n",
    "Date,Brand,Category,Retailer,City,Store,Address,Sales,Units,Orders,Users,AverageTicket,Frequency\n",
    "From `rappi-202719.SELLOUT_DEV_SP.VIEW_BRAND_STORE_DAILY`\n",
    "where Country = '{}'\n",
    "and lower(maker) = '{}'\n",
    "\"\"\".format(Pais, Fabricante)\n",
    "BrandStoreDaily = client.query(brandstoredaily).to_dataframe()"
   ]
  },
  {
   "cell_type": "code",
   "execution_count": 15,
   "metadata": {},
   "outputs": [],
   "source": [
    "productstoredaily = \"\"\"\n",
    "SELECT \n",
    "Date,Brand,Category,EanProductID,Name,Retailer,City,Store,Address,Sales,Units,Orders,Users,AverageTicket,Frequency\n",
    "From `rappi-202719.SELLOUT_DEV_SP.VIEW_PRODUCT_STORE_DAILY`\n",
    "where Country = '{}'\n",
    "and lower(maker) = '{}'\n",
    "\"\"\".format(Pais, Fabricante)\n",
    "ProductStoreDaily = client.query(productstoredaily).to_dataframe()"
   ]
  },
  {
   "cell_type": "code",
   "execution_count": 16,
   "metadata": {},
   "outputs": [],
   "source": [
    "participants = \"\"\"\n",
    "SELECT \n",
    "Category,Maker_,Brand_\n",
    "From `rappi-202719.SELLOUT_DEV_SP.VIEW_PARTICIPANTS`\n",
    "where Country = '{}'\n",
    "and lower(maker) = '{}'\n",
    "\"\"\".format(Pais, Fabricante)\n",
    "Participants = client.query(participants).to_dataframe()"
   ]
  },
  {
   "cell_type": "code",
   "execution_count": 17,
   "metadata": {},
   "outputs": [],
   "source": [
    "writer = pd.ExcelWriter('Sellout_'+Pais+'_'+Fabricante+'_'+Inicio+'_to_'+Final+'.xlsx', engine='xlsxwriter')\n",
    "Maker.to_excel(writer,index=False, sheet_name='Maker')\n",
    "Brand.to_excel(writer,index=False, sheet_name='Brand')\n",
    "Product.to_excel(writer,index=False, sheet_name='Product')\n",
    "MakerStore.to_excel(writer,index=False, sheet_name='Maker Store')\n",
    "BrandStore.to_excel(writer,index=False, sheet_name='Brand Store')\n",
    "ProductStore.to_excel(writer,index=False, sheet_name='Product Store')\n",
    "MakerDaily.to_excel(writer,index=False, sheet_name='Maker Daily')\n",
    "BrandDaily.to_excel(writer,index=False, sheet_name='Brand Daily')\n",
    "ProductDaily.to_excel(writer,index=False, sheet_name='Product Daily')\n",
    "MakerStoreDaily.to_excel(writer,index=False, sheet_name='Maker Store Daily')\n",
    "BrandStoreDaily.to_excel(writer,index=False, sheet_name='Brand Store Daily')\n",
    "ProductStoreDaily.to_excel(writer,index=False, sheet_name='Product Store Daily')\n",
    "Participants.to_excel(writer,index=False, sheet_name='Participants')\n",
    "\n",
    "\n",
    "workbook  = writer.book\n",
    "header_format = workbook.add_format({\n",
    "    'bold': True,\n",
    "    'text_wrap': False,\n",
    "    'valign': 'center',\n",
    "    'valign': 'center',\n",
    "    'fg_color': '#CCCCCC',\n",
    "    'border': 0})\n",
    "\n",
    "worksheet = writer.sheets['Maker']\n",
    "worksheet.set_tab_color('green')\n",
    "for col_num, value in enumerate(Maker.columns.values):\n",
    "    worksheet.write(0, col_num, value, header_format)\n",
    "worksheet = writer.sheets['Brand']\n",
    "worksheet.set_tab_color('green')\n",
    "for col_num, value in enumerate(Brand.columns.values):\n",
    "    worksheet.write(0, col_num, value, header_format)\n",
    "worksheet = writer.sheets['Product']\n",
    "worksheet.set_tab_color('green')\n",
    "for col_num, value in enumerate(Product.columns.values):\n",
    "    worksheet.write(0, col_num, value, header_format)\n",
    "worksheet = writer.sheets['Maker Store']\n",
    "worksheet.set_tab_color('yellow')\n",
    "for col_num, value in enumerate(MakerStore.columns.values):\n",
    "    worksheet.write(0, col_num, value, header_format)\n",
    "worksheet = writer.sheets['Brand Store']\n",
    "worksheet.set_tab_color('yellow')\n",
    "for col_num, value in enumerate(BrandStore.columns.values):\n",
    "    worksheet.write(0, col_num, value, header_format)\n",
    "worksheet = writer.sheets['Product Store']\n",
    "worksheet.set_tab_color('yellow')\n",
    "for col_num, value in enumerate(ProductStore.columns.values):\n",
    "    worksheet.write(0, col_num, value, header_format)\n",
    "worksheet = writer.sheets['Maker Daily']\n",
    "worksheet.set_tab_color('orange')\n",
    "for col_num, value in enumerate(MakerDaily.columns.values):\n",
    "    worksheet.write(0, col_num, value, header_format)\n",
    "worksheet = writer.sheets['Brand Daily']\n",
    "worksheet.set_tab_color('orange')\n",
    "for col_num, value in enumerate(BrandDaily.columns.values):\n",
    "    worksheet.write(0, col_num, value, header_format)\n",
    "worksheet = writer.sheets['Product Daily']\n",
    "worksheet.set_tab_color('orange')\n",
    "for col_num, value in enumerate(ProductDaily.columns.values):\n",
    "    worksheet.write(0, col_num, value, header_format)\n",
    "worksheet = writer.sheets['Maker Store Daily']\n",
    "worksheet.set_tab_color('red')\n",
    "for col_num, value in enumerate(MakerStoreDaily.columns.values):\n",
    "    worksheet.write(0, col_num, value, header_format)\n",
    "worksheet = writer.sheets['Brand Store Daily']\n",
    "worksheet.set_tab_color('red')\n",
    "for col_num, value in enumerate(BrandStoreDaily.columns.values):\n",
    "    worksheet.write(0, col_num, value, header_format)\n",
    "worksheet = writer.sheets['Product Store Daily']\n",
    "worksheet.set_tab_color('red')\n",
    "for col_num, value in enumerate(ProductStoreDaily.columns.values):\n",
    "    worksheet.write(0, col_num, value, header_format)\n",
    "worksheet = writer.sheets['Participants']\n",
    "worksheet.set_tab_color('black')\n",
    "for col_num, value in enumerate(Participants.columns.values):\n",
    "    worksheet.write(0, col_num, value, header_format)\n",
    "\n",
    "writer.save()"
   ]
  },
  {
   "cell_type": "code",
   "execution_count": 18,
   "metadata": {},
   "outputs": [
    {
     "name": "stdout",
     "output_type": "stream",
     "text": [
      "Ya quedo\n"
     ]
    }
   ],
   "source": [
    "print('Ya quedo')"
   ]
  },
  {
   "cell_type": "code",
   "execution_count": null,
   "metadata": {},
   "outputs": [],
   "source": []
  }
 ],
 "metadata": {
  "kernelspec": {
   "display_name": "Python 3",
   "language": "python",
   "name": "python3"
  },
  "language_info": {
   "codemirror_mode": {
    "name": "ipython",
    "version": 3
   },
   "file_extension": ".py",
   "mimetype": "text/x-python",
   "name": "python",
   "nbconvert_exporter": "python",
   "pygments_lexer": "ipython3",
   "version": "3.7.4"
  }
 },
 "nbformat": 4,
 "nbformat_minor": 2
}
